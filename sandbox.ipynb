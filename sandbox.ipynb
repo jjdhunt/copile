{
 "cells": [
  {
   "cell_type": "code",
   "execution_count": 1,
   "metadata": {},
   "outputs": [],
   "source": [
    "%load_ext autoreload\n",
    "%autoreload 2\n"
   ]
  },
  {
   "cell_type": "code",
   "execution_count": 2,
   "metadata": {},
   "outputs": [],
   "source": [
    "from copile.copilation import copile"
   ]
  },
  {
   "cell_type": "code",
   "execution_count": 3,
   "metadata": {},
   "outputs": [
    {
     "ename": "BlackListedModuleImportError",
     "evalue": "\nThe copiled source code used the blacklisted module(s): ['requests'].\nIf you are sure you want to allow use of this blacklisted module in (only) this function's copilation, add it to the copile decorator's module whitelist like this: @copile(module_whitelist=['requests'])\nYou should review the copiled source before whitelisting. The copiled source was:\nimport requests\n\ndef get_html(url: str) -> str:\n    \"\"\"\n    Retrieve the HTML of the webpage at the specified URL.\n\n    Args:\n        url (str): The URL of the webpage to retrieve.\n\n    Returns:\n        str: The HTML content of the webpage.\n    \"\"\"\n    response = requests.get(url)\n    response.raise_for_status()  # Raise an HTTPError for bad responses\n    return response.text\n",
     "output_type": "error",
     "traceback": [
      "\u001b[0;31m---------------------------------------------------------------------------\u001b[0m",
      "\u001b[0;31mBlackListedModuleImportError\u001b[0m              Traceback (most recent call last)",
      "Cell \u001b[0;32mIn[3], line 2\u001b[0m\n\u001b[1;32m      1\u001b[0m \u001b[38;5;129;43m@copile\u001b[39;49m\n\u001b[0;32m----> 2\u001b[0m \u001b[38;5;28;43;01mdef\u001b[39;49;00m\u001b[43m \u001b[49m\u001b[38;5;21;43mget_html\u001b[39;49m\u001b[43m(\u001b[49m\u001b[43murl\u001b[49m\u001b[43m)\u001b[49m\u001b[43m:\u001b[49m\n\u001b[1;32m      3\u001b[0m \u001b[38;5;250;43m    \u001b[39;49m\u001b[38;5;124;43;03m\"\"\"\u001b[39;49;00m\n\u001b[1;32m      4\u001b[0m \u001b[38;5;124;43;03m    retrieve the html of the webpage at the specified url.\u001b[39;49;00m\n\u001b[1;32m      5\u001b[0m \u001b[38;5;124;43;03m    \"\"\"\u001b[39;49;00m\n\u001b[1;32m      7\u001b[0m get_html(\u001b[38;5;124m'\u001b[39m\u001b[38;5;124mhttp://example.com\u001b[39m\u001b[38;5;124m'\u001b[39m)\n",
      "File \u001b[0;32m~/copile/copile/copilation.py:318\u001b[0m, in \u001b[0;36mcopile\u001b[0;34m(force_copilation, module_whitelist, function_whitelist, unsafe_overrides, *args)\u001b[0m\n\u001b[1;32m    315\u001b[0m \u001b[38;5;28;01mif\u001b[39;00m \u001b[38;5;28mlen\u001b[39m(args) \u001b[38;5;241m==\u001b[39m \u001b[38;5;241m1\u001b[39m \u001b[38;5;129;01mand\u001b[39;00m \u001b[38;5;28mcallable\u001b[39m(args[\u001b[38;5;241m0\u001b[39m]):\n\u001b[1;32m    316\u001b[0m     \u001b[38;5;66;03m# Decorator used without arguments\u001b[39;00m\n\u001b[1;32m    317\u001b[0m     func \u001b[38;5;241m=\u001b[39m args[\u001b[38;5;241m0\u001b[39m]\n\u001b[0;32m--> 318\u001b[0m     \u001b[38;5;28;01mreturn\u001b[39;00m \u001b[43m_copiler\u001b[49m\u001b[43m(\u001b[49m\u001b[43mfunc\u001b[49m\u001b[43m)\u001b[49m\n\u001b[1;32m    320\u001b[0m \u001b[38;5;28;01melse\u001b[39;00m:\n\u001b[1;32m    321\u001b[0m     \u001b[38;5;28;01mreturn\u001b[39;00m \u001b[38;5;28;01mlambda\u001b[39;00m func: _copiler(func,\n\u001b[1;32m    322\u001b[0m                                 force_copilation\u001b[38;5;241m=\u001b[39mforce_copilation,\n\u001b[1;32m    323\u001b[0m                                 module_whitelist\u001b[38;5;241m=\u001b[39mmodule_whitelist,\n\u001b[1;32m    324\u001b[0m                                 function_whitelist\u001b[38;5;241m=\u001b[39mfunction_whitelist,\n\u001b[1;32m    325\u001b[0m                                 unsafe_overrides\u001b[38;5;241m=\u001b[39munsafe_overrides,\n\u001b[1;32m    326\u001b[0m                                 )\n",
      "File \u001b[0;32m~/copile/copile/copilation.py:292\u001b[0m, in \u001b[0;36m_copiler\u001b[0;34m(func, force_copilation, module_whitelist, function_whitelist, unsafe_overrides)\u001b[0m\n\u001b[1;32m    287\u001b[0m copiled_source \u001b[38;5;241m=\u001b[39m _clean_response(copiled_source)\n\u001b[1;32m    289\u001b[0m \u001b[38;5;66;03m# if copiled_source.startswith('ERROR'):\u001b[39;00m\n\u001b[1;32m    290\u001b[0m \u001b[38;5;66;03m#     raise errors.SpecificationUnclearError(callable_name, copiled_source.removeprefix('ERROR: '))\u001b[39;00m\n\u001b[0;32m--> 292\u001b[0m \u001b[43m_review_safety\u001b[49m\u001b[43m(\u001b[49m\u001b[43mcopiled_source\u001b[49m\u001b[43m,\u001b[49m\n\u001b[1;32m    293\u001b[0m \u001b[43m               \u001b[49m\u001b[43mmodule_whitelist\u001b[49m\u001b[38;5;241;43m=\u001b[39;49m\u001b[43mmodule_whitelist\u001b[49m\u001b[43m,\u001b[49m\n\u001b[1;32m    294\u001b[0m \u001b[43m               \u001b[49m\u001b[43mfunction_whitelist\u001b[49m\u001b[38;5;241;43m=\u001b[39;49m\u001b[43mfunction_whitelist\u001b[49m\u001b[43m,\u001b[49m\n\u001b[1;32m    295\u001b[0m \u001b[43m               \u001b[49m\u001b[43munsafe_overrides\u001b[49m\u001b[38;5;241;43m=\u001b[39;49m\u001b[43munsafe_overrides\u001b[49m\u001b[43m)\u001b[49m \u001b[38;5;66;03m# will assert if source is deemed unsafe\u001b[39;00m\n\u001b[1;32m    296\u001b[0m \u001b[38;5;28;01mtry\u001b[39;00m:\n\u001b[1;32m    297\u001b[0m     func \u001b[38;5;241m=\u001b[39m _source_to_object(copiled_source)\n",
      "File \u001b[0;32m~/copile/copile/copilation.py:230\u001b[0m, in \u001b[0;36m_review_safety\u001b[0;34m(source, module_whitelist, function_whitelist, unsafe_overrides)\u001b[0m\n\u001b[1;32m    228\u001b[0m used_blacklisted_modules \u001b[38;5;241m=\u001b[39m check_for_blacklisted_modules_used(source, module_blacklist)\n\u001b[1;32m    229\u001b[0m \u001b[38;5;28;01mif\u001b[39;00m used_blacklisted_modules:\n\u001b[0;32m--> 230\u001b[0m     \u001b[38;5;28;01mraise\u001b[39;00m errors\u001b[38;5;241m.\u001b[39mBlackListedModuleImportError(source, used_blacklisted_modules)\n\u001b[1;32m    232\u001b[0m \u001b[38;5;66;03m# check for use of blacklisted functions\u001b[39;00m\n\u001b[1;32m    233\u001b[0m module_dir \u001b[38;5;241m=\u001b[39m os\u001b[38;5;241m.\u001b[39mpath\u001b[38;5;241m.\u001b[39mdirname(\u001b[38;5;18m__file__\u001b[39m)\n",
      "\u001b[0;31mBlackListedModuleImportError\u001b[0m: \nThe copiled source code used the blacklisted module(s): ['requests'].\nIf you are sure you want to allow use of this blacklisted module in (only) this function's copilation, add it to the copile decorator's module whitelist like this: @copile(module_whitelist=['requests'])\nYou should review the copiled source before whitelisting. The copiled source was:\nimport requests\n\ndef get_html(url: str) -> str:\n    \"\"\"\n    Retrieve the HTML of the webpage at the specified URL.\n\n    Args:\n        url (str): The URL of the webpage to retrieve.\n\n    Returns:\n        str: The HTML content of the webpage.\n    \"\"\"\n    response = requests.get(url)\n    response.raise_for_status()  # Raise an HTTPError for bad responses\n    return response.text\n"
     ]
    }
   ],
   "source": [
    "@copile\n",
    "def get_html(url):\n",
    "    \"\"\"\n",
    "    retrieve the html of the webpage at the specified url.\n",
    "    \"\"\"\n",
    "\n",
    "get_html('http://example.com')"
   ]
  },
  {
   "cell_type": "code",
   "execution_count": 4,
   "metadata": {},
   "outputs": [
    {
     "data": {
      "text/plain": [
       "'<!doctype html>\\n<html>\\n<head>\\n    <title>Example Domain</title>\\n\\n    <meta charset=\"utf-8\" />\\n    <meta http-equiv=\"Content-type\" content=\"text/html; charset=utf-8\" />\\n    <meta name=\"viewport\" content=\"width=device-width, initial-scale=1\" />\\n    <style type=\"text/css\">\\n    body {\\n        background-color: #f0f0f2;\\n        margin: 0;\\n        padding: 0;\\n        font-family: -apple-system, system-ui, BlinkMacSystemFont, \"Segoe UI\", \"Open Sans\", \"Helvetica Neue\", Helvetica, Arial, sans-serif;\\n        \\n    }\\n    div {\\n        width: 600px;\\n        margin: 5em auto;\\n        padding: 2em;\\n        background-color: #fdfdff;\\n        border-radius: 0.5em;\\n        box-shadow: 2px 3px 7px 2px rgba(0,0,0,0.02);\\n    }\\n    a:link, a:visited {\\n        color: #38488f;\\n        text-decoration: none;\\n    }\\n    @media (max-width: 700px) {\\n        div {\\n            margin: 0 auto;\\n            width: auto;\\n        }\\n    }\\n    </style>    \\n</head>\\n\\n<body>\\n<div>\\n    <h1>Example Domain</h1>\\n    <p>This domain is for use in illustrative examples in documents. You may use this\\n    domain in literature without prior coordination or asking for permission.</p>\\n    <p><a href=\"https://www.iana.org/domains/example\">More information...</a></p>\\n</div>\\n</body>\\n</html>\\n'"
      ]
     },
     "execution_count": 4,
     "metadata": {},
     "output_type": "execute_result"
    }
   ],
   "source": [
    "@copile(module_whitelist='requests')\n",
    "def get_html(url):\n",
    "    \"\"\"\n",
    "    retrieve the html of the webpage at the specified url.\n",
    "    \"\"\"\n",
    "\n",
    "get_html('http://example.com')"
   ]
  },
  {
   "cell_type": "code",
   "execution_count": 8,
   "metadata": {},
   "outputs": [
    {
     "name": "stdout",
     "output_type": "stream",
     "text": [
      "Collecting requests\n",
      "  Downloading requests-2.32.3-py3-none-any.whl (64 kB)\n",
      "\u001b[K     |████████████████████████████████| 64 kB 6.2 MB/s eta 0:00:011\n",
      "\u001b[?25hRequirement already satisfied: idna<4,>=2.5 in ./.venv/lib/python3.9/site-packages (from requests) (3.6)\n",
      "Requirement already satisfied: certifi>=2017.4.17 in ./.venv/lib/python3.9/site-packages (from requests) (2024.2.2)\n",
      "Requirement already satisfied: urllib3<3,>=1.21.1 in ./.venv/lib/python3.9/site-packages (from requests) (2.2.1)\n",
      "Requirement already satisfied: charset-normalizer<4,>=2 in ./.venv/lib/python3.9/site-packages (from requests) (3.3.2)\n",
      "Installing collected packages: requests\n",
      "Successfully installed requests-2.32.3\n",
      "\u001b[33mWARNING: You are using pip version 21.2.4; however, version 24.2 is available.\n",
      "You should consider upgrading via the '/Users/jack/copile/.venv/bin/python3 -m pip install --upgrade pip' command.\u001b[0m\n"
     ]
    }
   ],
   "source": [
    "!pip install requests"
   ]
  },
  {
   "cell_type": "code",
   "execution_count": 5,
   "metadata": {},
   "outputs": [
    {
     "data": {
      "text/plain": [
       "'<!doctype html>\\n<html>\\n<head>\\n    <title>Example Domain</title>\\n\\n    <meta charset=\"utf-8\" />\\n    <meta http-equiv=\"Content-type\" content=\"text/html; charset=utf-8\" />\\n    <meta name=\"viewport\" content=\"width=device-width, initial-scale=1\" />\\n    <style type=\"text/css\">\\n    body {\\n        background-color: #f0f0f2;\\n        margin: 0;\\n        padding: 0;\\n        font-family: -apple-system, system-ui, BlinkMacSystemFont, \"Segoe UI\", \"Open Sans\", \"Helvetica Neue\", Helvetica, Arial, sans-serif;\\n        \\n    }\\n    div {\\n        width: 600px;\\n        margin: 5em auto;\\n        padding: 2em;\\n        background-color: #fdfdff;\\n        border-radius: 0.5em;\\n        box-shadow: 2px 3px 7px 2px rgba(0,0,0,0.02);\\n    }\\n    a:link, a:visited {\\n        color: #38488f;\\n        text-decoration: none;\\n    }\\n    @media (max-width: 700px) {\\n        div {\\n            margin: 0 auto;\\n            width: auto;\\n        }\\n    }\\n    </style>    \\n</head>\\n\\n<body>\\n<div>\\n    <h1>Example Domain</h1>\\n    <p>This domain is for use in illustrative examples in documents. You may use this\\n    domain in literature without prior coordination or asking for permission.</p>\\n    <p><a href=\"https://www.iana.org/domains/example\">More information...</a></p>\\n</div>\\n</body>\\n</html>\\n'"
      ]
     },
     "execution_count": 5,
     "metadata": {},
     "output_type": "execute_result"
    }
   ],
   "source": [
    "@copile(module_whitelist='requests')\n",
    "def get_html(url):\n",
    "    \"\"\"\n",
    "    retrieve the html of the webpage at the specified url.\n",
    "    \"\"\"\n",
    "\n",
    "get_html('http://example.com')"
   ]
  },
  {
   "cell_type": "code",
   "execution_count": 7,
   "metadata": {},
   "outputs": [
    {
     "ename": "CopiledSourceDeemedUnsafeError",
     "evalue": "AI has deemed the copiled source code to be unsafe because it had the issues: {'NON_TERMINATING'}.\nThe copiled source was:\ndef loop_forever() -> None:\n    \"\"\"Executes a 'while True' loop.\n\n    This function will run indefinitely until it is externally interrupted.\n    \"\"\"\n    while True:\n        pass",
     "output_type": "error",
     "traceback": [
      "\u001b[0;31m---------------------------------------------------------------------------\u001b[0m",
      "\u001b[0;31mCopiledSourceDeemedUnsafeError\u001b[0m            Traceback (most recent call last)",
      "Cell \u001b[0;32mIn[7], line 2\u001b[0m\n\u001b[1;32m      1\u001b[0m \u001b[38;5;129;43m@copile\u001b[39;49m\n\u001b[0;32m----> 2\u001b[0m \u001b[38;5;28;43;01mdef\u001b[39;49;00m\u001b[43m \u001b[49m\u001b[38;5;21;43mloop_forever\u001b[39;49m\u001b[43m(\u001b[49m\u001b[43m)\u001b[49m\u001b[43m:\u001b[49m\n\u001b[1;32m      3\u001b[0m \u001b[38;5;250;43m    \u001b[39;49m\u001b[38;5;124;43;03m\"\"\"\u001b[39;49;00m\n\u001b[1;32m      4\u001b[0m \u001b[38;5;124;43;03m    executes a 'while True' loop\u001b[39;49;00m\n\u001b[1;32m      5\u001b[0m \u001b[38;5;124;43;03m    \"\"\"\u001b[39;49;00m\n\u001b[1;32m      7\u001b[0m loop_forever()\n",
      "File \u001b[0;32m~/copile/copile/copilation.py:351\u001b[0m, in \u001b[0;36mcopile\u001b[0;34m(force_copilation, module_whitelist, function_whitelist, unsafe_overrides, *args)\u001b[0m\n\u001b[1;32m    348\u001b[0m \u001b[38;5;28;01mif\u001b[39;00m \u001b[38;5;28mlen\u001b[39m(args) \u001b[38;5;241m==\u001b[39m \u001b[38;5;241m1\u001b[39m \u001b[38;5;129;01mand\u001b[39;00m \u001b[38;5;28mcallable\u001b[39m(args[\u001b[38;5;241m0\u001b[39m]):\n\u001b[1;32m    349\u001b[0m     \u001b[38;5;66;03m# Decorator used without arguments\u001b[39;00m\n\u001b[1;32m    350\u001b[0m     func \u001b[38;5;241m=\u001b[39m args[\u001b[38;5;241m0\u001b[39m]\n\u001b[0;32m--> 351\u001b[0m     \u001b[38;5;28;01mreturn\u001b[39;00m \u001b[43m_copiler\u001b[49m\u001b[43m(\u001b[49m\u001b[43mfunc\u001b[49m\u001b[43m)\u001b[49m\n\u001b[1;32m    353\u001b[0m \u001b[38;5;28;01melse\u001b[39;00m:\n\u001b[1;32m    354\u001b[0m     \u001b[38;5;28;01mreturn\u001b[39;00m \u001b[38;5;28;01mlambda\u001b[39;00m func: _copiler(func,\n\u001b[1;32m    355\u001b[0m                                 force_copilation\u001b[38;5;241m=\u001b[39mforce_copilation,\n\u001b[1;32m    356\u001b[0m                                 module_whitelist\u001b[38;5;241m=\u001b[39mmodule_whitelist,\n\u001b[1;32m    357\u001b[0m                                 function_whitelist\u001b[38;5;241m=\u001b[39mfunction_whitelist,\n\u001b[1;32m    358\u001b[0m                                 unsafe_overrides\u001b[38;5;241m=\u001b[39munsafe_overrides,\n\u001b[1;32m    359\u001b[0m                                 )\n",
      "File \u001b[0;32m~/copile/copile/copilation.py:324\u001b[0m, in \u001b[0;36m_copiler\u001b[0;34m(func, force_copilation, module_whitelist, function_whitelist, unsafe_overrides)\u001b[0m\n\u001b[1;32m    321\u001b[0m \u001b[38;5;28;01mif\u001b[39;00m copiled_source\u001b[38;5;241m.\u001b[39mstartswith(\u001b[38;5;124m'\u001b[39m\u001b[38;5;124mERROR\u001b[39m\u001b[38;5;124m'\u001b[39m):\n\u001b[1;32m    322\u001b[0m     \u001b[38;5;28;01mraise\u001b[39;00m SpecificationUnclearError(callable_name, copiled_source\u001b[38;5;241m.\u001b[39mremoveprefix(\u001b[38;5;124m'\u001b[39m\u001b[38;5;124mERROR: \u001b[39m\u001b[38;5;124m'\u001b[39m))\n\u001b[0;32m--> 324\u001b[0m \u001b[43m_review_safety\u001b[49m\u001b[43m(\u001b[49m\u001b[43mcopiled_source\u001b[49m\u001b[43m,\u001b[49m\n\u001b[1;32m    325\u001b[0m \u001b[43m               \u001b[49m\u001b[43mmodule_whitelist\u001b[49m\u001b[38;5;241;43m=\u001b[39;49m\u001b[43mmodule_whitelist\u001b[49m\u001b[43m,\u001b[49m\n\u001b[1;32m    326\u001b[0m \u001b[43m               \u001b[49m\u001b[43mfunction_whitelist\u001b[49m\u001b[38;5;241;43m=\u001b[39;49m\u001b[43mfunction_whitelist\u001b[49m\u001b[43m,\u001b[49m\n\u001b[1;32m    327\u001b[0m \u001b[43m               \u001b[49m\u001b[43munsafe_overrides\u001b[49m\u001b[38;5;241;43m=\u001b[39;49m\u001b[43munsafe_overrides\u001b[49m\u001b[43m)\u001b[49m \u001b[38;5;66;03m# will assert if source is deemed unsafe\u001b[39;00m\n\u001b[1;32m    328\u001b[0m \u001b[38;5;28;01mtry\u001b[39;00m:\n\u001b[1;32m    329\u001b[0m     func \u001b[38;5;241m=\u001b[39m _source_to_object(copiled_source)\n",
      "File \u001b[0;32m~/copile/copile/copilation.py:277\u001b[0m, in \u001b[0;36m_review_safety\u001b[0;34m(source, module_whitelist, function_whitelist, unsafe_overrides)\u001b[0m\n\u001b[1;32m    275\u001b[0m issues \u001b[38;5;241m=\u001b[39m issues \u001b[38;5;241m-\u001b[39m {\u001b[38;5;124m'\u001b[39m\u001b[38;5;124mNONE\u001b[39m\u001b[38;5;124m'\u001b[39m}\n\u001b[1;32m    276\u001b[0m \u001b[38;5;28;01mif\u001b[39;00m issues:\n\u001b[0;32m--> 277\u001b[0m     \u001b[38;5;28;01mraise\u001b[39;00m CopiledSourceDeemedUnsafeError(source, issues)\n",
      "\u001b[0;31mCopiledSourceDeemedUnsafeError\u001b[0m: AI has deemed the copiled source code to be unsafe because it had the issues: {'NON_TERMINATING'}.\nThe copiled source was:\ndef loop_forever() -> None:\n    \"\"\"Executes a 'while True' loop.\n\n    This function will run indefinitely until it is externally interrupted.\n    \"\"\"\n    while True:\n        pass"
     ]
    }
   ],
   "source": [
    "@copile\n",
    "def loop_forever():\n",
    "    \"\"\"\n",
    "    executes a 'while True' loop\n",
    "    \"\"\"\n",
    "\n",
    "loop_forever()"
   ]
  },
  {
   "cell_type": "code",
   "execution_count": 13,
   "metadata": {},
   "outputs": [
    {
     "ename": "BlackListedFunctionUseError",
     "evalue": "\nThe copiled source code used the blacklisted function(s): ['open'].'\nIf you are sure you want to allow use of this blacklisted function in (only) this function's copilation, add it to the copile decorator's function whitelist like this: @copile(function_whitelist=['open'])\nYou should review the copiled source before whitelisting. The copiled source was:\ndef loadfile(filename: str) -> str:\n    \"\"\"Loads the indicated file and returns it as text.\n\n    Args:\n        filename (str): The name of the file to load.\n\n    Returns:\n        str: The contents of the file as text.\n    \"\"\"\n    with open(filename, 'r') as file:\n        return file.read()\n",
     "output_type": "error",
     "traceback": [
      "\u001b[0;31m---------------------------------------------------------------------------\u001b[0m",
      "\u001b[0;31mBlackListedFunctionUseError\u001b[0m               Traceback (most recent call last)",
      "Cell \u001b[0;32mIn[13], line 2\u001b[0m\n\u001b[1;32m      1\u001b[0m \u001b[38;5;129;43m@copile\u001b[39;49m\n\u001b[0;32m----> 2\u001b[0m \u001b[38;5;28;43;01mdef\u001b[39;49;00m\u001b[43m \u001b[49m\u001b[38;5;21;43mloadfile\u001b[39;49m\u001b[43m(\u001b[49m\u001b[43mfilename\u001b[49m\u001b[43m)\u001b[49m\u001b[43m:\u001b[49m\n\u001b[1;32m      3\u001b[0m \u001b[38;5;250;43m    \u001b[39;49m\u001b[38;5;124;43;03m\"\"\"\u001b[39;49;00m\n\u001b[1;32m      4\u001b[0m \u001b[38;5;124;43;03m    loads the indicated file and returns it as text.\u001b[39;49;00m\n\u001b[1;32m      5\u001b[0m \u001b[38;5;124;43;03m    \"\"\"\u001b[39;49;00m\n\u001b[1;32m      7\u001b[0m loadfile(\u001b[38;5;124m'\u001b[39m\u001b[38;5;124m./copile/module_blacklist.txt\u001b[39m\u001b[38;5;124m'\u001b[39m)\n",
      "File \u001b[0;32m~/copile/copile/copilation.py:355\u001b[0m, in \u001b[0;36mcopile\u001b[0;34m(force_copilation, module_whitelist, function_whitelist, unsafe_overrides, *args)\u001b[0m\n\u001b[1;32m    352\u001b[0m \u001b[38;5;28;01mif\u001b[39;00m \u001b[38;5;28mlen\u001b[39m(args) \u001b[38;5;241m==\u001b[39m \u001b[38;5;241m1\u001b[39m \u001b[38;5;129;01mand\u001b[39;00m \u001b[38;5;28mcallable\u001b[39m(args[\u001b[38;5;241m0\u001b[39m]):\n\u001b[1;32m    353\u001b[0m     \u001b[38;5;66;03m# Decorator used without arguments\u001b[39;00m\n\u001b[1;32m    354\u001b[0m     func \u001b[38;5;241m=\u001b[39m args[\u001b[38;5;241m0\u001b[39m]\n\u001b[0;32m--> 355\u001b[0m     \u001b[38;5;28;01mreturn\u001b[39;00m \u001b[43m_copiler\u001b[49m\u001b[43m(\u001b[49m\u001b[43mfunc\u001b[49m\u001b[43m)\u001b[49m\n\u001b[1;32m    357\u001b[0m \u001b[38;5;28;01melse\u001b[39;00m:\n\u001b[1;32m    358\u001b[0m     \u001b[38;5;28;01mreturn\u001b[39;00m \u001b[38;5;28;01mlambda\u001b[39;00m func: _copiler(func,\n\u001b[1;32m    359\u001b[0m                                 force_copilation\u001b[38;5;241m=\u001b[39mforce_copilation,\n\u001b[1;32m    360\u001b[0m                                 module_whitelist\u001b[38;5;241m=\u001b[39mmodule_whitelist,\n\u001b[1;32m    361\u001b[0m                                 function_whitelist\u001b[38;5;241m=\u001b[39mfunction_whitelist,\n\u001b[1;32m    362\u001b[0m                                 unsafe_overrides\u001b[38;5;241m=\u001b[39munsafe_overrides,\n\u001b[1;32m    363\u001b[0m                                 )\n",
      "File \u001b[0;32m~/copile/copile/copilation.py:328\u001b[0m, in \u001b[0;36m_copiler\u001b[0;34m(func, force_copilation, module_whitelist, function_whitelist, unsafe_overrides)\u001b[0m\n\u001b[1;32m    325\u001b[0m \u001b[38;5;28;01mif\u001b[39;00m copiled_source\u001b[38;5;241m.\u001b[39mstartswith(\u001b[38;5;124m'\u001b[39m\u001b[38;5;124mERROR\u001b[39m\u001b[38;5;124m'\u001b[39m):\n\u001b[1;32m    326\u001b[0m     \u001b[38;5;28;01mraise\u001b[39;00m SpecificationUnclearError(callable_name, copiled_source\u001b[38;5;241m.\u001b[39mremoveprefix(\u001b[38;5;124m'\u001b[39m\u001b[38;5;124mERROR: \u001b[39m\u001b[38;5;124m'\u001b[39m))\n\u001b[0;32m--> 328\u001b[0m \u001b[43m_review_safety\u001b[49m\u001b[43m(\u001b[49m\u001b[43mcopiled_source\u001b[49m\u001b[43m,\u001b[49m\n\u001b[1;32m    329\u001b[0m \u001b[43m               \u001b[49m\u001b[43mmodule_whitelist\u001b[49m\u001b[38;5;241;43m=\u001b[39;49m\u001b[43mmodule_whitelist\u001b[49m\u001b[43m,\u001b[49m\n\u001b[1;32m    330\u001b[0m \u001b[43m               \u001b[49m\u001b[43mfunction_whitelist\u001b[49m\u001b[38;5;241;43m=\u001b[39;49m\u001b[43mfunction_whitelist\u001b[49m\u001b[43m,\u001b[49m\n\u001b[1;32m    331\u001b[0m \u001b[43m               \u001b[49m\u001b[43munsafe_overrides\u001b[49m\u001b[38;5;241;43m=\u001b[39;49m\u001b[43munsafe_overrides\u001b[49m\u001b[43m)\u001b[49m \u001b[38;5;66;03m# will assert if source is deemed unsafe\u001b[39;00m\n\u001b[1;32m    332\u001b[0m \u001b[38;5;28;01mtry\u001b[39;00m:\n\u001b[1;32m    333\u001b[0m     func \u001b[38;5;241m=\u001b[39m _source_to_object(copiled_source)\n",
      "File \u001b[0;32m~/copile/copile/copilation.py:273\u001b[0m, in \u001b[0;36m_review_safety\u001b[0;34m(source, module_whitelist, function_whitelist, unsafe_overrides)\u001b[0m\n\u001b[1;32m    271\u001b[0m used_blacklisted_functions \u001b[38;5;241m=\u001b[39m check_for_blacklisted_functions_used(source, function_blacklist)\n\u001b[1;32m    272\u001b[0m \u001b[38;5;28;01mif\u001b[39;00m used_blacklisted_functions:\n\u001b[0;32m--> 273\u001b[0m     \u001b[38;5;28;01mraise\u001b[39;00m BlackListedFunctionUseError(source, used_blacklisted_functions)\n\u001b[1;32m    275\u001b[0m \u001b[38;5;66;03m# have gpt review source code for unsafe activites  \u001b[39;00m\n\u001b[1;32m    276\u001b[0m issues \u001b[38;5;241m=\u001b[39m _get_completion(source, sm\u001b[38;5;241m.\u001b[39mcheck_for_safety_issues, model_class\u001b[38;5;241m=\u001b[39m\u001b[38;5;124m'\u001b[39m\u001b[38;5;124mbest\u001b[39m\u001b[38;5;124m'\u001b[39m)\n",
      "\u001b[0;31mBlackListedFunctionUseError\u001b[0m: \nThe copiled source code used the blacklisted function(s): ['open'].'\nIf you are sure you want to allow use of this blacklisted function in (only) this function's copilation, add it to the copile decorator's function whitelist like this: @copile(function_whitelist=['open'])\nYou should review the copiled source before whitelisting. The copiled source was:\ndef loadfile(filename: str) -> str:\n    \"\"\"Loads the indicated file and returns it as text.\n\n    Args:\n        filename (str): The name of the file to load.\n\n    Returns:\n        str: The contents of the file as text.\n    \"\"\"\n    with open(filename, 'r') as file:\n        return file.read()\n"
     ]
    }
   ],
   "source": [
    "@copile\n",
    "def loadfile(filename):\n",
    "    \"\"\"\n",
    "    loads the indicated file and returns it as text.\n",
    "    \"\"\"\n",
    "\n",
    "loadfile('./copile/module_blacklist.txt')"
   ]
  },
  {
   "cell_type": "code",
   "execution_count": 14,
   "metadata": {},
   "outputs": [
    {
     "ename": "CopiledSourceDeemedUnsafeError",
     "evalue": "\nAI has deemed the copiled source code to be unsafe because it had the issues: {'FILE_ACCESS'}.\nIf you are sure you want to allow this unsafe behavior in (only) this function's copilation, add it to the copile decorator's unsafe overrides like this: @copile(unsafe_overrides={'FILE_ACCESS'})\nYou should review the copiled source before whitelisting. The copiled source was:\ndef loadfile(filename: str) -> str:\n    \"\"\"Loads the indicated file and returns it as text.\n\n    Args:\n        filename (str): The name of the file to load.\n\n    Returns:\n        str: The contents of the file as text.\n    \"\"\"\n    with open(filename, 'r') as file:\n        return file.read()\n",
     "output_type": "error",
     "traceback": [
      "\u001b[0;31m---------------------------------------------------------------------------\u001b[0m",
      "\u001b[0;31mCopiledSourceDeemedUnsafeError\u001b[0m            Traceback (most recent call last)",
      "Cell \u001b[0;32mIn[14], line 2\u001b[0m\n\u001b[1;32m      1\u001b[0m \u001b[38;5;129;43m@copile\u001b[39;49m\u001b[43m(\u001b[49m\u001b[43mfunction_whitelist\u001b[49m\u001b[38;5;241;43m=\u001b[39;49m\u001b[38;5;124;43m'\u001b[39;49m\u001b[38;5;124;43mopen\u001b[39;49m\u001b[38;5;124;43m'\u001b[39;49m\u001b[43m)\u001b[49m\n\u001b[0;32m----> 2\u001b[0m \u001b[38;5;28;43;01mdef\u001b[39;49;00m\u001b[43m \u001b[49m\u001b[38;5;21;43mloadfile\u001b[39;49m\u001b[43m(\u001b[49m\u001b[43mfilename\u001b[49m\u001b[43m)\u001b[49m\u001b[43m:\u001b[49m\n\u001b[1;32m      3\u001b[0m \u001b[38;5;250;43m    \u001b[39;49m\u001b[38;5;124;43;03m\"\"\"\u001b[39;49;00m\n\u001b[1;32m      4\u001b[0m \u001b[38;5;124;43;03m    loads the indicated file and returns it as text.\u001b[39;49;00m\n\u001b[1;32m      5\u001b[0m \u001b[38;5;124;43;03m    \"\"\"\u001b[39;49;00m\n\u001b[1;32m      7\u001b[0m loadfile(\u001b[38;5;124m'\u001b[39m\u001b[38;5;124m./copile/module_blacklist.txt\u001b[39m\u001b[38;5;124m'\u001b[39m)\n",
      "File \u001b[0;32m~/copile/copile/copilation.py:358\u001b[0m, in \u001b[0;36mcopile.<locals>.<lambda>\u001b[0;34m(func)\u001b[0m\n\u001b[1;32m    355\u001b[0m     \u001b[38;5;28;01mreturn\u001b[39;00m _copiler(func)\n\u001b[1;32m    357\u001b[0m \u001b[38;5;28;01melse\u001b[39;00m:\n\u001b[0;32m--> 358\u001b[0m     \u001b[38;5;28;01mreturn\u001b[39;00m \u001b[38;5;28;01mlambda\u001b[39;00m func: \u001b[43m_copiler\u001b[49m\u001b[43m(\u001b[49m\u001b[43mfunc\u001b[49m\u001b[43m,\u001b[49m\n\u001b[1;32m    359\u001b[0m \u001b[43m                                \u001b[49m\u001b[43mforce_copilation\u001b[49m\u001b[38;5;241;43m=\u001b[39;49m\u001b[43mforce_copilation\u001b[49m\u001b[43m,\u001b[49m\n\u001b[1;32m    360\u001b[0m \u001b[43m                                \u001b[49m\u001b[43mmodule_whitelist\u001b[49m\u001b[38;5;241;43m=\u001b[39;49m\u001b[43mmodule_whitelist\u001b[49m\u001b[43m,\u001b[49m\n\u001b[1;32m    361\u001b[0m \u001b[43m                                \u001b[49m\u001b[43mfunction_whitelist\u001b[49m\u001b[38;5;241;43m=\u001b[39;49m\u001b[43mfunction_whitelist\u001b[49m\u001b[43m,\u001b[49m\n\u001b[1;32m    362\u001b[0m \u001b[43m                                \u001b[49m\u001b[43munsafe_overrides\u001b[49m\u001b[38;5;241;43m=\u001b[39;49m\u001b[43munsafe_overrides\u001b[49m\u001b[43m,\u001b[49m\n\u001b[1;32m    363\u001b[0m \u001b[43m                                \u001b[49m\u001b[43m)\u001b[49m\n",
      "File \u001b[0;32m~/copile/copile/copilation.py:328\u001b[0m, in \u001b[0;36m_copiler\u001b[0;34m(func, force_copilation, module_whitelist, function_whitelist, unsafe_overrides)\u001b[0m\n\u001b[1;32m    325\u001b[0m \u001b[38;5;28;01mif\u001b[39;00m copiled_source\u001b[38;5;241m.\u001b[39mstartswith(\u001b[38;5;124m'\u001b[39m\u001b[38;5;124mERROR\u001b[39m\u001b[38;5;124m'\u001b[39m):\n\u001b[1;32m    326\u001b[0m     \u001b[38;5;28;01mraise\u001b[39;00m SpecificationUnclearError(callable_name, copiled_source\u001b[38;5;241m.\u001b[39mremoveprefix(\u001b[38;5;124m'\u001b[39m\u001b[38;5;124mERROR: \u001b[39m\u001b[38;5;124m'\u001b[39m))\n\u001b[0;32m--> 328\u001b[0m \u001b[43m_review_safety\u001b[49m\u001b[43m(\u001b[49m\u001b[43mcopiled_source\u001b[49m\u001b[43m,\u001b[49m\n\u001b[1;32m    329\u001b[0m \u001b[43m               \u001b[49m\u001b[43mmodule_whitelist\u001b[49m\u001b[38;5;241;43m=\u001b[39;49m\u001b[43mmodule_whitelist\u001b[49m\u001b[43m,\u001b[49m\n\u001b[1;32m    330\u001b[0m \u001b[43m               \u001b[49m\u001b[43mfunction_whitelist\u001b[49m\u001b[38;5;241;43m=\u001b[39;49m\u001b[43mfunction_whitelist\u001b[49m\u001b[43m,\u001b[49m\n\u001b[1;32m    331\u001b[0m \u001b[43m               \u001b[49m\u001b[43munsafe_overrides\u001b[49m\u001b[38;5;241;43m=\u001b[39;49m\u001b[43munsafe_overrides\u001b[49m\u001b[43m)\u001b[49m \u001b[38;5;66;03m# will assert if source is deemed unsafe\u001b[39;00m\n\u001b[1;32m    332\u001b[0m \u001b[38;5;28;01mtry\u001b[39;00m:\n\u001b[1;32m    333\u001b[0m     func \u001b[38;5;241m=\u001b[39m _source_to_object(copiled_source)\n",
      "File \u001b[0;32m~/copile/copile/copilation.py:281\u001b[0m, in \u001b[0;36m_review_safety\u001b[0;34m(source, module_whitelist, function_whitelist, unsafe_overrides)\u001b[0m\n\u001b[1;32m    279\u001b[0m issues \u001b[38;5;241m=\u001b[39m issues \u001b[38;5;241m-\u001b[39m {\u001b[38;5;124m'\u001b[39m\u001b[38;5;124mNONE\u001b[39m\u001b[38;5;124m'\u001b[39m}\n\u001b[1;32m    280\u001b[0m \u001b[38;5;28;01mif\u001b[39;00m issues:\n\u001b[0;32m--> 281\u001b[0m     \u001b[38;5;28;01mraise\u001b[39;00m CopiledSourceDeemedUnsafeError(source, issues)\n",
      "\u001b[0;31mCopiledSourceDeemedUnsafeError\u001b[0m: \nAI has deemed the copiled source code to be unsafe because it had the issues: {'FILE_ACCESS'}.\nIf you are sure you want to allow this unsafe behavior in (only) this function's copilation, add it to the copile decorator's unsafe overrides like this: @copile(unsafe_overrides={'FILE_ACCESS'})\nYou should review the copiled source before whitelisting. The copiled source was:\ndef loadfile(filename: str) -> str:\n    \"\"\"Loads the indicated file and returns it as text.\n\n    Args:\n        filename (str): The name of the file to load.\n\n    Returns:\n        str: The contents of the file as text.\n    \"\"\"\n    with open(filename, 'r') as file:\n        return file.read()\n"
     ]
    }
   ],
   "source": [
    "@copile(function_whitelist='open')\n",
    "def loadfile(filename):\n",
    "    \"\"\"\n",
    "    loads the indicated file and returns it as text.\n",
    "    \"\"\"\n",
    "\n",
    "loadfile('./copile/module_blacklist.txt')"
   ]
  },
  {
   "cell_type": "code",
   "execution_count": 15,
   "metadata": {},
   "outputs": [
    {
     "name": "stdout",
     "output_type": "stream",
     "text": [
      "The specification for 'loadfile()' was copiled in ./copilations/loadfile.co.py\n"
     ]
    },
    {
     "data": {
      "text/plain": [
       "'base64\\ncgi\\nconfigparser\\ncsv\\nctypes\\nfileinput\\nftplib\\nglob\\nhashlib\\nhttp\\nhttp \\nimaplib\\nio\\njson\\nlogging\\nmultiprocessing\\nos\\npathlib\\npickle\\nplatform\\npoplib\\nrandom\\nrequests\\nrunpy\\nselenium\\nshelve\\nshutil\\nsmtplib\\nsocket\\nsocketserver\\nsqlite3\\nssl\\nsubprocess\\nsys\\ntelnetlib\\ntempfile\\nurllib\\nuuid\\nwebbrowser\\nwsgiref\\nxml\\nxmlrpc\\nzipfile'"
      ]
     },
     "execution_count": 15,
     "metadata": {},
     "output_type": "execute_result"
    }
   ],
   "source": [
    "@copile(function_whitelist='open', unsafe_overrides='FILE_ACCESS')\n",
    "def loadfile(filename):\n",
    "    \"\"\"\n",
    "    loads the indicated file and returns it as text.\n",
    "    \"\"\"\n",
    "\n",
    "loadfile('./copile/module_blacklist.txt')"
   ]
  },
  {
   "cell_type": "code",
   "execution_count": 11,
   "metadata": {},
   "outputs": [
    {
     "name": "stdout",
     "output_type": "stream",
     "text": [
      "The specification for 'power()' was copiled in ./copilations/power.co.py\n"
     ]
    },
    {
     "data": {
      "text/plain": [
       "256"
      ]
     },
     "execution_count": 11,
     "metadata": {},
     "output_type": "execute_result"
    }
   ],
   "source": [
    "@copile\n",
    "def power(x, n):\n",
    "    \"\"\"\n",
    "    return x to the nth power\n",
    "    \"\"\"\n",
    "\n",
    "power(2, 8)"
   ]
  },
  {
   "cell_type": "code",
   "execution_count": 19,
   "metadata": {},
   "outputs": [
    {
     "name": "stdout",
     "output_type": "stream",
     "text": [
      "The specification for 'square()' was copiled in ./copilations/square.co.py\n",
      "The specification for 'circumference()' was copiled in ./copilations/circumference.co.py\n",
      "37.69911184307752\n",
      "36\n"
     ]
    }
   ],
   "source": [
    "@copile\n",
    "def square(x):\n",
    "    \"\"\"\n",
    "    return x squared\n",
    "    \"\"\"\n",
    "\n",
    "@copile\n",
    "def circumference(r):\n",
    "    \"\"\"\n",
    "    return the circumference of a circle with radius r\n",
    "    \"\"\"\n",
    "\n",
    "print(circumference(6))\n",
    "\n",
    "print(square(6))"
   ]
  },
  {
   "cell_type": "code",
   "execution_count": 20,
   "metadata": {},
   "outputs": [
    {
     "data": {
      "text/plain": [
       "37.69911184307752"
      ]
     },
     "execution_count": 20,
     "metadata": {},
     "output_type": "execute_result"
    }
   ],
   "source": [
    "@copile\n",
    "def circumference(r):\n",
    "    \"\"\"\n",
    "    return the circumference of a circle with radius r\n",
    "    \"\"\"\n",
    "\n",
    "circumference(6)"
   ]
  },
  {
   "cell_type": "code",
   "execution_count": 12,
   "metadata": {},
   "outputs": [
    {
     "name": "stdout",
     "output_type": "stream",
     "text": [
      "The specification for 'n_primes()' was copiled in ./copilations/n_primes.co.py\n"
     ]
    },
    {
     "data": {
      "text/plain": [
       "[2, 3, 5, 7, 11]"
      ]
     },
     "execution_count": 12,
     "metadata": {},
     "output_type": "execute_result"
    }
   ],
   "source": [
    "@copile\n",
    "def n_primes(n):\n",
    "    \"\"\"\n",
    "    Return the first n primes.\n",
    "    \"\"\"\n",
    "\n",
    "n_primes(5)"
   ]
  },
  {
   "cell_type": "code",
   "execution_count": 13,
   "metadata": {},
   "outputs": [
    {
     "name": "stdout",
     "output_type": "stream",
     "text": [
      "The specification for 'length_n_list()' was copiled in ./copilations/length_n_list.co.py\n"
     ]
    },
    {
     "data": {
      "text/plain": [
       "[2, 2, 2, 2, 2]"
      ]
     },
     "execution_count": 13,
     "metadata": {},
     "output_type": "execute_result"
    }
   ],
   "source": [
    "@copile\n",
    "def length_n_list(v, n):\n",
    "    \"\"\"\n",
    "    return a length n list of the provided value, v.\n",
    "    \"\"\"\n",
    "\n",
    "length_n_list(2, 5)"
   ]
  },
  {
   "cell_type": "code",
   "execution_count": 15,
   "metadata": {},
   "outputs": [
    {
     "ename": "SpecificationUnclearError",
     "evalue": "The specification for \"is_yellow()\" is unclear. The AI says:\n\"UNCLEAR: The term \"yellow\" is not defined in the context of the function. It is unclear what criteria or conditions make a number \"yellow.\"\".",
     "output_type": "error",
     "traceback": [
      "\u001b[0;31m---------------------------------------------------------------------------\u001b[0m",
      "\u001b[0;31mSpecificationUnclearError\u001b[0m                 Traceback (most recent call last)",
      "Cell \u001b[0;32mIn[15], line 2\u001b[0m\n\u001b[1;32m      1\u001b[0m \u001b[38;5;129;43m@copile\u001b[39;49m\n\u001b[0;32m----> 2\u001b[0m \u001b[38;5;28;43;01mdef\u001b[39;49;00m\u001b[43m \u001b[49m\u001b[38;5;21;43mis_yellow\u001b[39;49m\u001b[43m(\u001b[49m\u001b[43mnumber\u001b[49m\u001b[43m:\u001b[49m\u001b[43m \u001b[49m\u001b[38;5;28;43mfloat\u001b[39;49m\u001b[43m)\u001b[49m\u001b[43m:\u001b[49m\n\u001b[1;32m      3\u001b[0m \u001b[38;5;250;43m    \u001b[39;49m\u001b[38;5;124;43;03m\"\"\"\u001b[39;49;00m\n\u001b[1;32m      4\u001b[0m \u001b[38;5;124;43;03m    returns True if number is yellow.\u001b[39;49;00m\n\u001b[1;32m      5\u001b[0m \u001b[38;5;124;43;03m    \"\"\"\u001b[39;49;00m\n\u001b[1;32m      7\u001b[0m is_yellow(\u001b[38;5;241m98\u001b[39m)\n",
      "File \u001b[0;32m~/copile/copile/copilation.py:318\u001b[0m, in \u001b[0;36mcopile\u001b[0;34m(force_copilation, module_whitelist, function_whitelist, unsafe_overrides, *args)\u001b[0m\n\u001b[1;32m    315\u001b[0m \u001b[38;5;28;01mif\u001b[39;00m \u001b[38;5;28mlen\u001b[39m(args) \u001b[38;5;241m==\u001b[39m \u001b[38;5;241m1\u001b[39m \u001b[38;5;129;01mand\u001b[39;00m \u001b[38;5;28mcallable\u001b[39m(args[\u001b[38;5;241m0\u001b[39m]):\n\u001b[1;32m    316\u001b[0m     \u001b[38;5;66;03m# Decorator used without arguments\u001b[39;00m\n\u001b[1;32m    317\u001b[0m     func \u001b[38;5;241m=\u001b[39m args[\u001b[38;5;241m0\u001b[39m]\n\u001b[0;32m--> 318\u001b[0m     \u001b[38;5;28;01mreturn\u001b[39;00m \u001b[43m_copiler\u001b[49m\u001b[43m(\u001b[49m\u001b[43mfunc\u001b[49m\u001b[43m)\u001b[49m\n\u001b[1;32m    320\u001b[0m \u001b[38;5;28;01melse\u001b[39;00m:\n\u001b[1;32m    321\u001b[0m     \u001b[38;5;28;01mreturn\u001b[39;00m \u001b[38;5;28;01mlambda\u001b[39;00m func: _copiler(func,\n\u001b[1;32m    322\u001b[0m                                 force_copilation\u001b[38;5;241m=\u001b[39mforce_copilation,\n\u001b[1;32m    323\u001b[0m                                 module_whitelist\u001b[38;5;241m=\u001b[39mmodule_whitelist,\n\u001b[1;32m    324\u001b[0m                                 function_whitelist\u001b[38;5;241m=\u001b[39mfunction_whitelist,\n\u001b[1;32m    325\u001b[0m                                 unsafe_overrides\u001b[38;5;241m=\u001b[39munsafe_overrides,\n\u001b[1;32m    326\u001b[0m                                 )\n",
      "File \u001b[0;32m~/copile/copile/copilation.py:278\u001b[0m, in \u001b[0;36m_copiler\u001b[0;34m(func, force_copilation, module_whitelist, function_whitelist, unsafe_overrides)\u001b[0m\n\u001b[1;32m    274\u001b[0m existing_copilation \u001b[38;5;241m=\u001b[39m _get_existing_copilation(copilations_filename, callable_name)\n\u001b[1;32m    276\u001b[0m \u001b[38;5;28;01mif\u001b[39;00m force_copilation \u001b[38;5;129;01mor\u001b[39;00m \u001b[38;5;129;01mnot\u001b[39;00m existing_copilation:\n\u001b[0;32m--> 278\u001b[0m     \u001b[43m_review_specification\u001b[49m\u001b[43m(\u001b[49m\u001b[43mcallable_name\u001b[49m\u001b[43m,\u001b[49m\u001b[43m \u001b[49m\u001b[43mspecification\u001b[49m\u001b[43m)\u001b[49m\n\u001b[1;32m    280\u001b[0m     max_tries \u001b[38;5;241m=\u001b[39m \u001b[38;5;241m2\u001b[39m\n\u001b[1;32m    281\u001b[0m     tries \u001b[38;5;241m=\u001b[39m \u001b[38;5;241m0\u001b[39m\n",
      "File \u001b[0;32m~/copile/copile/copilation.py:251\u001b[0m, in \u001b[0;36m_review_specification\u001b[0;34m(callable_name, specification)\u001b[0m\n\u001b[1;32m    249\u001b[0m issues \u001b[38;5;241m=\u001b[39m _get_completion(specification, sm\u001b[38;5;241m.\u001b[39massess_specification, model_class\u001b[38;5;241m=\u001b[39m\u001b[38;5;124m'\u001b[39m\u001b[38;5;124mfast\u001b[39m\u001b[38;5;124m'\u001b[39m)\n\u001b[1;32m    250\u001b[0m \u001b[38;5;28;01mif\u001b[39;00m issues\u001b[38;5;241m.\u001b[39mstartswith(\u001b[38;5;124m'\u001b[39m\u001b[38;5;124mUNCLEAR\u001b[39m\u001b[38;5;124m'\u001b[39m):\n\u001b[0;32m--> 251\u001b[0m     \u001b[38;5;28;01mraise\u001b[39;00m errors\u001b[38;5;241m.\u001b[39mSpecificationUnclearError(callable_name, issues)\n",
      "\u001b[0;31mSpecificationUnclearError\u001b[0m: The specification for \"is_yellow()\" is unclear. The AI says:\n\"UNCLEAR: The term \"yellow\" is not defined in the context of the function. It is unclear what criteria or conditions make a number \"yellow.\"\"."
     ]
    }
   ],
   "source": [
    "@copile\n",
    "def is_yellow(number: float):\n",
    "    \"\"\"\n",
    "    returns True if number is yellow.\n",
    "    \"\"\"\n",
    "\n",
    "is_yellow(98)"
   ]
  },
  {
   "cell_type": "code",
   "execution_count": 16,
   "metadata": {},
   "outputs": [
    {
     "name": "stdout",
     "output_type": "stream",
     "text": [
      "The specification for 'is_yellow()' was copiled in ./copilations/is_yellow.co.py\n"
     ]
    },
    {
     "data": {
      "text/plain": [
       "True"
      ]
     },
     "execution_count": 16,
     "metadata": {},
     "output_type": "execute_result"
    }
   ],
   "source": [
    "@copile\n",
    "def is_yellow(number: float):\n",
    "    \"\"\"\n",
    "    Returns true if number is yellow. In this context, a number is considered 'yellow' if it is within 1 degree F of human body temperature (98oF).\n",
    "    \"\"\"\n",
    "\n",
    "is_yellow(97)"
   ]
  },
  {
   "cell_type": "code",
   "execution_count": 19,
   "metadata": {},
   "outputs": [
    {
     "name": "stdout",
     "output_type": "stream",
     "text": [
      "The specification for 'plot_sine_wave()' was copiled in ./copilations/plot_sine_wave.co.py\n"
     ]
    },
    {
     "data": {
      "application/vnd.jupyter.widget-view+json": {
       "model_id": "173ce8d4cf3a4afb838ed2d35b79d9a7",
       "version_major": 2,
       "version_minor": 0
      },
      "text/plain": [
       "interactive(children=(FloatSlider(value=1.0, description='Wavelength', max=5.0, min=0.1), Output()), _dom_clas…"
      ]
     },
     "metadata": {},
     "output_type": "display_data"
    }
   ],
   "source": [
    "@copile(force_copilation=True)\n",
    "def plot_sine_wave():\n",
    "    \"\"\"\n",
    "    Create an *interactive* matplotlib plot ipywidgets that draws a sine wave for different wavelengths.\n",
    "    Figure has a slider for wavelength.\n",
    "    The plot should work in a jupyter notebook.\n",
    "    Only one set of axis is shown.\n",
    "    \"\"\"\n",
    "\n",
    "plot_sine_wave()"
   ]
  },
  {
   "cell_type": "code",
   "execution_count": 22,
   "metadata": {},
   "outputs": [
    {
     "data": {
      "text/plain": [
       "0.002739726027397249"
      ]
     },
     "execution_count": 22,
     "metadata": {},
     "output_type": "execute_result"
    }
   ],
   "source": [
    "@copile\n",
    "def probability_same_birthday(n):\n",
    "    \"\"\"\n",
    "    For n people in a room, calculate the probability that two or more people have the same birthday.\n",
    "    \"\"\"\n",
    "probability_same_birthday(2)\n"
   ]
  },
  {
   "cell_type": "code",
   "execution_count": 25,
   "metadata": {},
   "outputs": [
    {
     "data": {
      "image/png": "[encoded data removed]",
      "text/plain": [
       "<Figure size 640x480 with 1 Axes>"
      ]
     },
     "metadata": {},
     "output_type": "display_data"
    }
   ],
   "source": [
    "@copile()\n",
    "def draw_star(n, theta):\n",
    "    \"\"\"\n",
    "    Plots a star with n points using matplotlib. An optional parameter, theta, specifies the clockwise angle from vertical of the first point of the star, which is indicated by a red dot.\n",
    "    \"\"\"\n",
    "\n",
    "draw_star(5, 0)"
   ]
  },
  {
   "cell_type": "code",
   "execution_count": 27,
   "metadata": {},
   "outputs": [
    {
     "name": "stderr",
     "output_type": "stream",
     "text": [
      "MovieWriter imagemagick unavailable; using Pillow instead.\n"
     ]
    },
    {
     "name": "stdout",
     "output_type": "stream",
     "text": [
      "The specification for 'animate_star()' was copiled in ./copilations/animate_star.co.py\n"
     ]
    },
    {
     "name": "stderr",
     "output_type": "stream",
     "text": [
      "<string>:24: RuntimeWarning: More than 20 figures have been opened. Figures created through the pyplot interface (`matplotlib.pyplot.figure`) are retained until explicitly closed and may consume too much memory. (To control this warning, see the rcParam `figure.max_open_warning`). Consider using `matplotlib.pyplot.close()`.\n"
     ]
    },
    {
     "data": {
      "text/plain": [
       "<Figure size 640x480 with 0 Axes>"
      ]
     },
     "metadata": {},
     "output_type": "display_data"
    },
    {
     "data": {
      "text/plain": [
       "<Figure size 640x480 with 0 Axes>"
      ]
     },
     "metadata": {},
     "output_type": "display_data"
    },
    {
     "data": {
      "text/plain": [
       "<Figure size 640x480 with 0 Axes>"
      ]
     },
     "metadata": {},
     "output_type": "display_data"
    },
    {
     "data": {
      "text/plain": [
       "<Figure size 640x480 with 0 Axes>"
      ]
     },
     "metadata": {},
     "output_type": "display_data"
    },
    {
     "data": {
      "text/plain": [
       "<Figure size 640x480 with 0 Axes>"
      ]
     },
     "metadata": {},
     "output_type": "display_data"
    },
    {
     "data": {
      "text/plain": [
       "<Figure size 640x480 with 0 Axes>"
      ]
     },
     "metadata": {},
     "output_type": "display_data"
    },
    {
     "data": {
      "text/plain": [
       "<Figure size 640x480 with 0 Axes>"
      ]
     },
     "metadata": {},
     "output_type": "display_data"
    },
    {
     "data": {
      "text/plain": [
       "<Figure size 640x480 with 0 Axes>"
      ]
     },
     "metadata": {},
     "output_type": "display_data"
    },
    {
     "data": {
      "text/plain": [
       "<Figure size 640x480 with 0 Axes>"
      ]
     },
     "metadata": {},
     "output_type": "display_data"
    },
    {
     "data": {
      "text/plain": [
       "<Figure size 640x480 with 0 Axes>"
      ]
     },
     "metadata": {},
     "output_type": "display_data"
    },
    {
     "data": {
      "text/plain": [
       "<Figure size 640x480 with 0 Axes>"
      ]
     },
     "metadata": {},
     "output_type": "display_data"
    },
    {
     "data": {
      "text/plain": [
       "<Figure size 640x480 with 0 Axes>"
      ]
     },
     "metadata": {},
     "output_type": "display_data"
    },
    {
     "data": {
      "text/plain": [
       "<Figure size 640x480 with 0 Axes>"
      ]
     },
     "metadata": {},
     "output_type": "display_data"
    },
    {
     "data": {
      "text/plain": [
       "<Figure size 640x480 with 0 Axes>"
      ]
     },
     "metadata": {},
     "output_type": "display_data"
    },
    {
     "data": {
      "text/plain": [
       "<Figure size 640x480 with 0 Axes>"
      ]
     },
     "metadata": {},
     "output_type": "display_data"
    },
    {
     "data": {
      "text/plain": [
       "<Figure size 640x480 with 0 Axes>"
      ]
     },
     "metadata": {},
     "output_type": "display_data"
    },
    {
     "data": {
      "text/plain": [
       "<Figure size 640x480 with 0 Axes>"
      ]
     },
     "metadata": {},
     "output_type": "display_data"
    },
    {
     "data": {
      "text/plain": [
       "<Figure size 640x480 with 0 Axes>"
      ]
     },
     "metadata": {},
     "output_type": "display_data"
    },
    {
     "data": {
      "text/plain": [
       "<Figure size 640x480 with 0 Axes>"
      ]
     },
     "metadata": {},
     "output_type": "display_data"
    },
    {
     "data": {
      "text/plain": [
       "<Figure size 640x480 with 0 Axes>"
      ]
     },
     "metadata": {},
     "output_type": "display_data"
    },
    {
     "data": {
      "text/plain": [
       "<Figure size 640x480 with 0 Axes>"
      ]
     },
     "metadata": {},
     "output_type": "display_data"
    },
    {
     "data": {
      "text/plain": [
       "<Figure size 640x480 with 0 Axes>"
      ]
     },
     "metadata": {},
     "output_type": "display_data"
    },
    {
     "data": {
      "text/plain": [
       "<Figure size 640x480 with 0 Axes>"
      ]
     },
     "metadata": {},
     "output_type": "display_data"
    },
    {
     "data": {
      "text/plain": [
       "<Figure size 640x480 with 0 Axes>"
      ]
     },
     "metadata": {},
     "output_type": "display_data"
    },
    {
     "data": {
      "text/plain": [
       "<Figure size 640x480 with 0 Axes>"
      ]
     },
     "metadata": {},
     "output_type": "display_data"
    },
    {
     "data": {
      "text/plain": [
       "<Figure size 640x480 with 0 Axes>"
      ]
     },
     "metadata": {},
     "output_type": "display_data"
    },
    {
     "data": {
      "text/plain": [
       "<Figure size 640x480 with 0 Axes>"
      ]
     },
     "metadata": {},
     "output_type": "display_data"
    },
    {
     "data": {
      "text/plain": [
       "<Figure size 640x480 with 0 Axes>"
      ]
     },
     "metadata": {},
     "output_type": "display_data"
    },
    {
     "data": {
      "text/plain": [
       "<Figure size 640x480 with 0 Axes>"
      ]
     },
     "metadata": {},
     "output_type": "display_data"
    },
    {
     "data": {
      "text/plain": [
       "<Figure size 640x480 with 0 Axes>"
      ]
     },
     "metadata": {},
     "output_type": "display_data"
    },
    {
     "data": {
      "text/plain": [
       "<Figure size 640x480 with 0 Axes>"
      ]
     },
     "metadata": {},
     "output_type": "display_data"
    },
    {
     "data": {
      "text/plain": [
       "<Figure size 640x480 with 0 Axes>"
      ]
     },
     "metadata": {},
     "output_type": "display_data"
    },
    {
     "data": {
      "text/plain": [
       "<Figure size 640x480 with 0 Axes>"
      ]
     },
     "metadata": {},
     "output_type": "display_data"
    },
    {
     "data": {
      "text/plain": [
       "<Figure size 640x480 with 0 Axes>"
      ]
     },
     "metadata": {},
     "output_type": "display_data"
    },
    {
     "data": {
      "text/plain": [
       "<Figure size 640x480 with 0 Axes>"
      ]
     },
     "metadata": {},
     "output_type": "display_data"
    },
    {
     "data": {
      "text/plain": [
       "<Figure size 640x480 with 0 Axes>"
      ]
     },
     "metadata": {},
     "output_type": "display_data"
    },
    {
     "data": {
      "text/plain": [
       "<Figure size 640x480 with 0 Axes>"
      ]
     },
     "metadata": {},
     "output_type": "display_data"
    },
    {
     "data": {
      "text/plain": [
       "<Figure size 640x480 with 0 Axes>"
      ]
     },
     "metadata": {},
     "output_type": "display_data"
    },
    {
     "data": {
      "text/plain": [
       "<Figure size 640x480 with 0 Axes>"
      ]
     },
     "metadata": {},
     "output_type": "display_data"
    },
    {
     "data": {
      "text/plain": [
       "<Figure size 640x480 with 0 Axes>"
      ]
     },
     "metadata": {},
     "output_type": "display_data"
    },
    {
     "data": {
      "text/plain": [
       "<Figure size 640x480 with 0 Axes>"
      ]
     },
     "metadata": {},
     "output_type": "display_data"
    },
    {
     "data": {
      "text/plain": [
       "<Figure size 640x480 with 0 Axes>"
      ]
     },
     "metadata": {},
     "output_type": "display_data"
    },
    {
     "data": {
      "text/plain": [
       "<Figure size 640x480 with 0 Axes>"
      ]
     },
     "metadata": {},
     "output_type": "display_data"
    },
    {
     "data": {
      "text/plain": [
       "<Figure size 640x480 with 0 Axes>"
      ]
     },
     "metadata": {},
     "output_type": "display_data"
    },
    {
     "data": {
      "text/plain": [
       "<Figure size 640x480 with 0 Axes>"
      ]
     },
     "metadata": {},
     "output_type": "display_data"
    },
    {
     "data": {
      "text/plain": [
       "<Figure size 640x480 with 0 Axes>"
      ]
     },
     "metadata": {},
     "output_type": "display_data"
    },
    {
     "data": {
      "text/plain": [
       "<Figure size 640x480 with 0 Axes>"
      ]
     },
     "metadata": {},
     "output_type": "display_data"
    },
    {
     "data": {
      "text/plain": [
       "<Figure size 640x480 with 0 Axes>"
      ]
     },
     "metadata": {},
     "output_type": "display_data"
    },
    {
     "data": {
      "text/plain": [
       "<Figure size 640x480 with 0 Axes>"
      ]
     },
     "metadata": {},
     "output_type": "display_data"
    },
    {
     "data": {
      "text/plain": [
       "<Figure size 640x480 with 0 Axes>"
      ]
     },
     "metadata": {},
     "output_type": "display_data"
    },
    {
     "data": {
      "text/plain": [
       "<Figure size 640x480 with 0 Axes>"
      ]
     },
     "metadata": {},
     "output_type": "display_data"
    },
    {
     "data": {
      "text/plain": [
       "<Figure size 640x480 with 0 Axes>"
      ]
     },
     "metadata": {},
     "output_type": "display_data"
    },
    {
     "data": {
      "text/plain": [
       "<Figure size 640x480 with 0 Axes>"
      ]
     },
     "metadata": {},
     "output_type": "display_data"
    },
    {
     "data": {
      "text/plain": [
       "<Figure size 640x480 with 0 Axes>"
      ]
     },
     "metadata": {},
     "output_type": "display_data"
    },
    {
     "data": {
      "text/plain": [
       "<Figure size 640x480 with 0 Axes>"
      ]
     },
     "metadata": {},
     "output_type": "display_data"
    },
    {
     "data": {
      "text/plain": [
       "<Figure size 640x480 with 0 Axes>"
      ]
     },
     "metadata": {},
     "output_type": "display_data"
    },
    {
     "data": {
      "text/plain": [
       "<Figure size 640x480 with 0 Axes>"
      ]
     },
     "metadata": {},
     "output_type": "display_data"
    },
    {
     "data": {
      "text/plain": [
       "<Figure size 640x480 with 0 Axes>"
      ]
     },
     "metadata": {},
     "output_type": "display_data"
    },
    {
     "data": {
      "text/plain": [
       "<Figure size 640x480 with 0 Axes>"
      ]
     },
     "metadata": {},
     "output_type": "display_data"
    },
    {
     "data": {
      "text/plain": [
       "<Figure size 640x480 with 0 Axes>"
      ]
     },
     "metadata": {},
     "output_type": "display_data"
    },
    {
     "data": {
      "text/plain": [
       "<Figure size 640x480 with 0 Axes>"
      ]
     },
     "metadata": {},
     "output_type": "display_data"
    },
    {
     "data": {
      "text/plain": [
       "<Figure size 640x480 with 0 Axes>"
      ]
     },
     "metadata": {},
     "output_type": "display_data"
    },
    {
     "data": {
      "text/plain": [
       "<Figure size 640x480 with 0 Axes>"
      ]
     },
     "metadata": {},
     "output_type": "display_data"
    },
    {
     "data": {
      "text/plain": [
       "<Figure size 640x480 with 0 Axes>"
      ]
     },
     "metadata": {},
     "output_type": "display_data"
    },
    {
     "data": {
      "text/plain": [
       "<Figure size 640x480 with 0 Axes>"
      ]
     },
     "metadata": {},
     "output_type": "display_data"
    },
    {
     "data": {
      "text/plain": [
       "<Figure size 640x480 with 0 Axes>"
      ]
     },
     "metadata": {},
     "output_type": "display_data"
    },
    {
     "data": {
      "text/plain": [
       "<Figure size 640x480 with 0 Axes>"
      ]
     },
     "metadata": {},
     "output_type": "display_data"
    },
    {
     "data": {
      "text/plain": [
       "<Figure size 640x480 with 0 Axes>"
      ]
     },
     "metadata": {},
     "output_type": "display_data"
    },
    {
     "data": {
      "text/plain": [
       "<Figure size 640x480 with 0 Axes>"
      ]
     },
     "metadata": {},
     "output_type": "display_data"
    },
    {
     "data": {
      "text/plain": [
       "<Figure size 640x480 with 0 Axes>"
      ]
     },
     "metadata": {},
     "output_type": "display_data"
    },
    {
     "data": {
      "text/plain": [
       "<Figure size 640x480 with 0 Axes>"
      ]
     },
     "metadata": {},
     "output_type": "display_data"
    },
    {
     "data": {
      "text/plain": [
       "<Figure size 640x480 with 0 Axes>"
      ]
     },
     "metadata": {},
     "output_type": "display_data"
    },
    {
     "data": {
      "image/png": "[encoded data removed]",
      "text/plain": [
       "<Figure size 640x480 with 1 Axes>"
      ]
     },
     "metadata": {},
     "output_type": "display_data"
    }
   ],
   "source": [
    "@copile(force_copilation=True, unsafe_overrides=['FILE_WRITE', 'FILE_ACCESS'])\n",
    "def animate_star(gif_filename):\n",
    "    \"\"\"\n",
    "    create a gif animation of a rotating star, turning a full 360o.\n",
    "    \n",
    "    uses a function, draw_star(n, theta), that makes a matplotlib plot of a star at a rotation of theta. \n",
    "    \"\"\"\n",
    "\n",
    "animate_star('star.gif')"
   ]
  },
  {
   "cell_type": "code",
   "execution_count": 55,
   "metadata": {},
   "outputs": [
    {
     "name": "stdout",
     "output_type": "stream",
     "text": [
      "The specification for 'plot_overlapping_squares()' was copiled in ./copilations/plot_overlapping_squares.co.py\n"
     ]
    },
    {
     "data": {
      "image/png": "[encoded data removed]",
      "text/plain": [
       "<Figure size 640x480 with 1 Axes>"
      ]
     },
     "metadata": {},
     "output_type": "display_data"
    }
   ],
   "source": [
    "@copile\n",
    "def plot_overlapping_squares(a, b, ab, a_color='red', b_color='green', alpha=0.5):\n",
    "    \"\"\"\n",
    "    Given areas of two squares, a and b, and an amount of overlap area, ab,\n",
    "    Draws the two squares with matplotlib.\n",
    "    Axes are set to be equal.\n",
    "    \"\"\"\n",
    "\n",
    "plot_overlapping_squares(0.5, 1, 0.1)"
   ]
  },
  {
   "cell_type": "code",
   "execution_count": 61,
   "metadata": {},
   "outputs": [
    {
     "data": {
      "image/png": "[encoded data removed]",
      "text/plain": [
       "<Figure size 640x480 with 1 Axes>"
      ]
     },
     "metadata": {},
     "output_type": "display_data"
    }
   ],
   "source": [
    "@copile\n",
    "def venn(pA, pB, pAB, shape='circle'):\n",
    "    \"\"\"\n",
    "    Given probabilities for events A and B, and p(A|B), draws a Venn diagram with the corresponding areas and overlaps.\n",
    "    Venn regions are either squares or circles.\n",
    "\n",
    "    Uses helper function: plot_overlapping_squares(a, b, ab)\n",
    "    \"\"\"\n",
    "\n",
    "venn(1, 1, 0.1, shape='square')"
   ]
  },
  {
   "cell_type": "code",
   "execution_count": 59,
   "metadata": {},
   "outputs": [
    {
     "ename": "BlackListedFunctionUseError",
     "evalue": "\nThe copiled source code used the blacklisted function(s): ['open'].'\nIf you are sure you want to allow use of this blacklisted function in (only) this function's copilation, add it to the copile decorator's function whitelist like this: @copile(function_whitelist=['open'])\nYou should review the copiled source before whitelisting. The copiled source was:\nimport ast\nimport types\n\ndef extract_function_prototypes(file: str) -> str:\n    \"\"\"\n    Given a Python file, extracts all the top-level function definitions and docstrings and returns them as a single string.\n\n    Args:\n        file (str): The path to the Python file.\n\n    Returns:\n        str: A string containing all the top-level function definitions and their docstrings.\n    \"\"\"\n    def get_function_prototype_and_docstring(node: ast.FunctionDef) -> str:\n        docstring = ast.get_docstring(node)\n        docstring = f'\"\"\"{docstring}\"\"\"' if docstring else '\"\"\"No docstring provided.\"\"\"'\n        return f\"def {node.name}({', '.join(arg.arg for arg in node.args.args)}):\\n    {docstring}\\n\"\n\n    with open(file, 'r') as f:\n        tree = ast.parse(f.read(), filename=file)\n\n    functions = [node for node in tree.body if isinstance(node, ast.FunctionDef)]\n    return '\\n'.join(get_function_prototype_and_docstring(func) for func in functions)\n",
     "output_type": "error",
     "traceback": [
      "\u001b[0;31m---------------------------------------------------------------------------\u001b[0m",
      "\u001b[0;31mBlackListedFunctionUseError\u001b[0m               Traceback (most recent call last)",
      "Cell \u001b[0;32mIn[59], line 2\u001b[0m\n\u001b[1;32m      1\u001b[0m \u001b[38;5;129;43m@copile\u001b[39;49m\n\u001b[0;32m----> 2\u001b[0m \u001b[38;5;28;43;01mdef\u001b[39;49;00m\u001b[43m \u001b[49m\u001b[38;5;21;43mextract_function_prototypes\u001b[39;49m\u001b[43m(\u001b[49m\u001b[43mfile\u001b[49m\u001b[43m:\u001b[49m\u001b[38;5;28;43mstr\u001b[39;49m\u001b[43m)\u001b[49m\u001b[43m:\u001b[49m\n\u001b[1;32m      3\u001b[0m \u001b[38;5;250;43m    \u001b[39;49m\u001b[38;5;124;43;03m\"\"\"\u001b[39;49;00m\n\u001b[1;32m      4\u001b[0m \u001b[38;5;124;43;03m    Given a python file, extracts all the top-level function definitions and docstrings and returns them as a single string.\u001b[39;49;00m\n\u001b[1;32m      5\u001b[0m \u001b[38;5;124;43;03m    \"\"\"\u001b[39;49;00m\n\u001b[1;32m      7\u001b[0m \u001b[38;5;28mprint\u001b[39m(extract_function_prototypes(\u001b[38;5;124m'\u001b[39m\u001b[38;5;124mcopile/copilations.py\u001b[39m\u001b[38;5;124m'\u001b[39m))\n",
      "File \u001b[0;32m~/copile/copile/copilation.py:356\u001b[0m, in \u001b[0;36mcopile\u001b[0;34m(force_copilation, module_whitelist, function_whitelist, unsafe_overrides, *args)\u001b[0m\n\u001b[1;32m    353\u001b[0m \u001b[38;5;28;01mif\u001b[39;00m \u001b[38;5;28mlen\u001b[39m(args) \u001b[38;5;241m==\u001b[39m \u001b[38;5;241m1\u001b[39m \u001b[38;5;129;01mand\u001b[39;00m \u001b[38;5;28mcallable\u001b[39m(args[\u001b[38;5;241m0\u001b[39m]):\n\u001b[1;32m    354\u001b[0m     \u001b[38;5;66;03m# Decorator used without arguments\u001b[39;00m\n\u001b[1;32m    355\u001b[0m     func \u001b[38;5;241m=\u001b[39m args[\u001b[38;5;241m0\u001b[39m]\n\u001b[0;32m--> 356\u001b[0m     \u001b[38;5;28;01mreturn\u001b[39;00m \u001b[43m_copiler\u001b[49m\u001b[43m(\u001b[49m\u001b[43mfunc\u001b[49m\u001b[43m)\u001b[49m\n\u001b[1;32m    358\u001b[0m \u001b[38;5;28;01melse\u001b[39;00m:\n\u001b[1;32m    359\u001b[0m     \u001b[38;5;28;01mreturn\u001b[39;00m \u001b[38;5;28;01mlambda\u001b[39;00m func: _copiler(func,\n\u001b[1;32m    360\u001b[0m                                 force_copilation\u001b[38;5;241m=\u001b[39mforce_copilation,\n\u001b[1;32m    361\u001b[0m                                 module_whitelist\u001b[38;5;241m=\u001b[39mmodule_whitelist,\n\u001b[1;32m    362\u001b[0m                                 function_whitelist\u001b[38;5;241m=\u001b[39mfunction_whitelist,\n\u001b[1;32m    363\u001b[0m                                 unsafe_overrides\u001b[38;5;241m=\u001b[39munsafe_overrides,\n\u001b[1;32m    364\u001b[0m                                 )\n",
      "File \u001b[0;32m~/copile/copile/copilation.py:329\u001b[0m, in \u001b[0;36m_copiler\u001b[0;34m(func, force_copilation, module_whitelist, function_whitelist, unsafe_overrides)\u001b[0m\n\u001b[1;32m    326\u001b[0m \u001b[38;5;28;01mif\u001b[39;00m copiled_source\u001b[38;5;241m.\u001b[39mstartswith(\u001b[38;5;124m'\u001b[39m\u001b[38;5;124mERROR\u001b[39m\u001b[38;5;124m'\u001b[39m):\n\u001b[1;32m    327\u001b[0m     \u001b[38;5;28;01mraise\u001b[39;00m SpecificationUnclearError(callable_name, copiled_source\u001b[38;5;241m.\u001b[39mremoveprefix(\u001b[38;5;124m'\u001b[39m\u001b[38;5;124mERROR: \u001b[39m\u001b[38;5;124m'\u001b[39m))\n\u001b[0;32m--> 329\u001b[0m \u001b[43m_review_safety\u001b[49m\u001b[43m(\u001b[49m\u001b[43mcopiled_source\u001b[49m\u001b[43m,\u001b[49m\n\u001b[1;32m    330\u001b[0m \u001b[43m               \u001b[49m\u001b[43mmodule_whitelist\u001b[49m\u001b[38;5;241;43m=\u001b[39;49m\u001b[43mmodule_whitelist\u001b[49m\u001b[43m,\u001b[49m\n\u001b[1;32m    331\u001b[0m \u001b[43m               \u001b[49m\u001b[43mfunction_whitelist\u001b[49m\u001b[38;5;241;43m=\u001b[39;49m\u001b[43mfunction_whitelist\u001b[49m\u001b[43m,\u001b[49m\n\u001b[1;32m    332\u001b[0m \u001b[43m               \u001b[49m\u001b[43munsafe_overrides\u001b[49m\u001b[38;5;241;43m=\u001b[39;49m\u001b[43munsafe_overrides\u001b[49m\u001b[43m)\u001b[49m \u001b[38;5;66;03m# will assert if source is deemed unsafe\u001b[39;00m\n\u001b[1;32m    333\u001b[0m \u001b[38;5;28;01mtry\u001b[39;00m:\n\u001b[1;32m    334\u001b[0m     func \u001b[38;5;241m=\u001b[39m _source_to_object(copiled_source)\n",
      "File \u001b[0;32m~/copile/copile/copilation.py:274\u001b[0m, in \u001b[0;36m_review_safety\u001b[0;34m(source, module_whitelist, function_whitelist, unsafe_overrides)\u001b[0m\n\u001b[1;32m    272\u001b[0m used_blacklisted_functions \u001b[38;5;241m=\u001b[39m check_for_blacklisted_functions_used(source, function_blacklist)\n\u001b[1;32m    273\u001b[0m \u001b[38;5;28;01mif\u001b[39;00m used_blacklisted_functions:\n\u001b[0;32m--> 274\u001b[0m     \u001b[38;5;28;01mraise\u001b[39;00m BlackListedFunctionUseError(source, used_blacklisted_functions)\n\u001b[1;32m    276\u001b[0m \u001b[38;5;66;03m# have gpt review source code for unsafe activites  \u001b[39;00m\n\u001b[1;32m    277\u001b[0m issues \u001b[38;5;241m=\u001b[39m _get_completion(source, sm\u001b[38;5;241m.\u001b[39mcheck_for_safety_issues, model_class\u001b[38;5;241m=\u001b[39m\u001b[38;5;124m'\u001b[39m\u001b[38;5;124mbest\u001b[39m\u001b[38;5;124m'\u001b[39m)\n",
      "\u001b[0;31mBlackListedFunctionUseError\u001b[0m: \nThe copiled source code used the blacklisted function(s): ['open'].'\nIf you are sure you want to allow use of this blacklisted function in (only) this function's copilation, add it to the copile decorator's function whitelist like this: @copile(function_whitelist=['open'])\nYou should review the copiled source before whitelisting. The copiled source was:\nimport ast\nimport types\n\ndef extract_function_prototypes(file: str) -> str:\n    \"\"\"\n    Given a Python file, extracts all the top-level function definitions and docstrings and returns them as a single string.\n\n    Args:\n        file (str): The path to the Python file.\n\n    Returns:\n        str: A string containing all the top-level function definitions and their docstrings.\n    \"\"\"\n    def get_function_prototype_and_docstring(node: ast.FunctionDef) -> str:\n        docstring = ast.get_docstring(node)\n        docstring = f'\"\"\"{docstring}\"\"\"' if docstring else '\"\"\"No docstring provided.\"\"\"'\n        return f\"def {node.name}({', '.join(arg.arg for arg in node.args.args)}):\\n    {docstring}\\n\"\n\n    with open(file, 'r') as f:\n        tree = ast.parse(f.read(), filename=file)\n\n    functions = [node for node in tree.body if isinstance(node, ast.FunctionDef)]\n    return '\\n'.join(get_function_prototype_and_docstring(func) for func in functions)\n"
     ]
    }
   ],
   "source": [
    "@copile\n",
    "def extract_function_prototypes(file:str):\n",
    "    \"\"\"\n",
    "    Given a python file, extracts all the top-level function definitions and docstrings and returns them as a single string.\n",
    "    \"\"\"\n",
    "\n",
    "print(extract_function_prototypes('copile/copilations.py'))"
   ]
  }
 ],
 "metadata": {
  "kernelspec": {
   "display_name": ".venv",
   "language": "python",
   "name": "python3"
  },
  "language_info": {
   "codemirror_mode": {
    "name": "ipython",
    "version": 3
   },
   "file_extension": ".py",
   "mimetype": "text/x-python",
   "name": "python",
   "nbconvert_exporter": "python",
   "pygments_lexer": "ipython3",
   "version": "3.9.6"
  }
 },
 "nbformat": 4,
 "nbformat_minor": 2
}
